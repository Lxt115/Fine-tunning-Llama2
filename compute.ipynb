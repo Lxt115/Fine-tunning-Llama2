{
  "nbformat": 4,
  "nbformat_minor": 0,
  "metadata": {
    "colab": {
      "provenance": [],
      "collapsed_sections": [
        "ZYkueM08JOZA"
      ]
    },
    "kernelspec": {
      "name": "python3",
      "display_name": "Python 3"
    },
    "language_info": {
      "name": "python"
    }
  },
  "cells": [
    {
      "cell_type": "code",
      "source": [
        "!pip -q install rouge bert_score openai"
      ],
      "metadata": {
        "collapsed": true,
        "id": "4ZkJi0PJvgQb"
      },
      "execution_count": null,
      "outputs": []
    },
    {
      "cell_type": "code",
      "source": [
        "import pandas as pd\n",
        "from rouge import Rouge\n",
        "from bert_score import BERTScorer\n",
        "from openai import OpenAI\n",
        "import os\n",
        "import re\n",
        "import openai\n",
        "import requests\n",
        "import base64\n",
        "\n",
        "scorer = BERTScorer(lang=\"en\")\n",
        "\n",
        "def get_rouge_scores(text1, text2):\n",
        "    rouge = Rouge()\n",
        "    return rouge.get_scores(text1, text2)[0]\n",
        "\n",
        "API_KEY = \"269ae195f4454c52bfbe7a187f36c40a\"\n",
        "headers = {\n",
        "    \"Content-Type\": \"application/json\",\n",
        "    \"api-key\": API_KEY,\n",
        "}\n",
        "ENDPOINT = \"https://trhh.openai.azure.com/openai/deployments/gpt-4o/chat/completions?api-version=2024-02-15-preview\"\n"
      ],
      "metadata": {
        "id": "APyRvK-0TtBO"
      },
      "execution_count": null,
      "outputs": []
    },
    {
      "cell_type": "markdown",
      "source": [
        "# Get text"
      ],
      "metadata": {
        "id": "di9zxCsUStK6"
      }
    },
    {
      "cell_type": "code",
      "source": [
        "excel_file = '/content/output_ood2.xlsx'\n",
        "\n",
        "df = pd.read_excel(excel_file)"
      ],
      "metadata": {
        "id": "cY2Ok_-FSsNJ"
      },
      "execution_count": null,
      "outputs": []
    },
    {
      "cell_type": "markdown",
      "source": [
        "## Rouge and BertScore"
      ],
      "metadata": {
        "id": "ZYkueM08JOZA"
      }
    },
    {
      "cell_type": "code",
      "source": [
        "for index,row in df.iterrows():\n",
        "  print(index)\n",
        "  dialogue=row[0]\n",
        "  human_summary=row[1]\n",
        "  llama_summary=row[2]\n",
        "  peft_sum1=row[3]\n",
        "  peft_sum2=row[4]\n",
        "\n",
        "  llama_rouge_scores = get_rouge_scores(llama_summary, human_summary)\n",
        "  df.loc[index, 'llama_sum_rouge_1_r'] = llama_rouge_scores['rouge-1']['r']\n",
        "  df.loc[index, 'llama_sum_rouge_1_p'] = llama_rouge_scores['rouge-1']['p']\n",
        "  df.loc[index, 'llama_sum_rouge_1_f'] = llama_rouge_scores['rouge-1']['f']\n",
        "  df.loc[index, 'llama_sum_rouge_2_r'] = llama_rouge_scores['rouge-2']['r']\n",
        "  df.loc[index, 'llama_sum_rouge_2_p'] = llama_rouge_scores['rouge-2']['p']\n",
        "  df.loc[index, 'llama_sum_rouge_2_f'] = llama_rouge_scores['rouge-2']['f']\n",
        "  df.loc[index, 'llama_sum_rouge_l_r'] = llama_rouge_scores['rouge-l']['r']\n",
        "  df.loc[index, 'llama_sum_rouge_l_p'] = llama_rouge_scores['rouge-l']['p']\n",
        "  df.loc[index, 'llama_sum_rouge_l_f'] = llama_rouge_scores['rouge-l']['f']\n",
        "\n",
        "  # 对 peft_summary 计算 ROUGE 指标\n",
        "  peft_rouge_scores1 = get_rouge_scores(peft_sum1, human_summary)\n",
        "  df.loc[index, 'peft_sum1_rouge_1_r'] = peft_rouge_scores1['rouge-1']['r']\n",
        "  df.loc[index, 'peft_sum1_rouge_1_p'] = peft_rouge_scores1['rouge-1']['p']\n",
        "  df.loc[index, 'peft_sum1_rouge_1_f'] = peft_rouge_scores1['rouge-1']['f']\n",
        "  df.loc[index, 'peft_sum1_rouge_2_r'] = peft_rouge_scores1['rouge-2']['r']\n",
        "  df.loc[index, 'peft_sum1_rouge_2_p'] = peft_rouge_scores1['rouge-2']['p']\n",
        "  df.loc[index, 'peft_sum1_rouge_2_f'] = peft_rouge_scores1['rouge-2']['f']\n",
        "  df.loc[index, 'peft_sum1_rouge_l_r'] = peft_rouge_scores1['rouge-l']['r']\n",
        "  df.loc[index, 'peft_sum1_rouge_l_p'] = peft_rouge_scores1['rouge-l']['p']\n",
        "  df.loc[index, 'peft_sum1_rouge_l_f'] = peft_rouge_scores1['rouge-l']['f']\n",
        "\n",
        "  peft_rouge_scores2 = get_rouge_scores(peft_sum2, human_summary)\n",
        "  df.loc[index, 'peft_sum2_rouge_1_r'] = peft_rouge_scores2['rouge-1']['r']\n",
        "  df.loc[index, 'peft_sum2_rouge_1_p'] = peft_rouge_scores2['rouge-1']['p']\n",
        "  df.loc[index, 'peft_sum2_rouge_1_f'] = peft_rouge_scores2['rouge-1']['f']\n",
        "  df.loc[index, 'peft_sum2_rouge_2_r'] = peft_rouge_scores2['rouge-2']['r']\n",
        "  df.loc[index, 'peft_sum2_rouge_2_p'] = peft_rouge_scores2['rouge-2']['p']\n",
        "  df.loc[index, 'peft_sum2_rouge_2_f'] = peft_rouge_scores2['rouge-2']['f']\n",
        "  df.loc[index, 'peft_sum2_rouge_l_r'] = peft_rouge_scores2['rouge-l']['r']\n",
        "  df.loc[index, 'peft_sum2_rouge_l_p'] = peft_rouge_scores2['rouge-l']['p']\n",
        "  df.loc[index, 'peft_sum2_rouge_l_f'] = peft_rouge_scores2['rouge-l']['f']\n",
        "\n",
        "  P1, R1, F1 = scorer.score([llama_summary], [human_summary])\n",
        "  P2, R2, F2 = scorer.score([peft_sum1], [human_summary])\n",
        "  P3, R3, F3 = scorer.score([peft_sum2], [human_summary])\n",
        "\n",
        "  df.loc[index, 'llama_sum_BERTScorer_p'] = P1.tolist()[0]\n",
        "  df.loc[index, 'llama_sum_BERTScorer_r'] = R1.tolist()[0]\n",
        "  df.loc[index, 'llama_sum_BERTScorer_f'] = F1.tolist()[0]\n",
        "\n",
        "  df.loc[index, 'peft_sum1_BERTScorer_p'] = P2.tolist()[0]\n",
        "  df.loc[index, 'peft_sum1_BERTScorer_r'] = R2.tolist()[0]\n",
        "  df.loc[index, 'peft_sum1_BERTScorer_f'] = F2.tolist()[0]\n",
        "\n",
        "  df.loc[index, 'peft_sum2_BERTScorer_p'] = P3.tolist()[0]\n",
        "  df.loc[index, 'peft_sum2_BERTScorer_r'] = R3.tolist()[0]\n",
        "  df.loc[index, 'peft_sum2_BERTScorer_f'] = F3.tolist()[0]\n"
      ],
      "metadata": {
        "colab": {
          "base_uri": "https://localhost:8080/"
        },
        "collapsed": true,
        "id": "WUfPsj7613-M",
        "outputId": "ad63605c-4601-4293-c580-36b5b4bccf98"
      },
      "execution_count": null,
      "outputs": [
        {
          "output_type": "stream",
          "name": "stdout",
          "text": [
            "0\n"
          ]
        },
        {
          "output_type": "stream",
          "name": "stderr",
          "text": [
            "<ipython-input-96-95bc22e06ff7>:3: FutureWarning: Series.__getitem__ treating keys as positions is deprecated. In a future version, integer keys will always be treated as labels (consistent with DataFrame behavior). To access a value by position, use `ser.iloc[pos]`\n",
            "  dialogue=row[0]\n",
            "<ipython-input-96-95bc22e06ff7>:4: FutureWarning: Series.__getitem__ treating keys as positions is deprecated. In a future version, integer keys will always be treated as labels (consistent with DataFrame behavior). To access a value by position, use `ser.iloc[pos]`\n",
            "  human_summary=row[1]\n",
            "<ipython-input-96-95bc22e06ff7>:5: FutureWarning: Series.__getitem__ treating keys as positions is deprecated. In a future version, integer keys will always be treated as labels (consistent with DataFrame behavior). To access a value by position, use `ser.iloc[pos]`\n",
            "  llama_summary=row[2]\n",
            "<ipython-input-96-95bc22e06ff7>:6: FutureWarning: Series.__getitem__ treating keys as positions is deprecated. In a future version, integer keys will always be treated as labels (consistent with DataFrame behavior). To access a value by position, use `ser.iloc[pos]`\n",
            "  peft_sum1=row[3]\n",
            "<ipython-input-96-95bc22e06ff7>:7: FutureWarning: Series.__getitem__ treating keys as positions is deprecated. In a future version, integer keys will always be treated as labels (consistent with DataFrame behavior). To access a value by position, use `ser.iloc[pos]`\n",
            "  peft_sum2=row[4]\n"
          ]
        },
        {
          "output_type": "stream",
          "name": "stdout",
          "text": [
            "1\n"
          ]
        },
        {
          "output_type": "stream",
          "name": "stderr",
          "text": [
            "<ipython-input-96-95bc22e06ff7>:3: FutureWarning: Series.__getitem__ treating keys as positions is deprecated. In a future version, integer keys will always be treated as labels (consistent with DataFrame behavior). To access a value by position, use `ser.iloc[pos]`\n",
            "  dialogue=row[0]\n",
            "<ipython-input-96-95bc22e06ff7>:4: FutureWarning: Series.__getitem__ treating keys as positions is deprecated. In a future version, integer keys will always be treated as labels (consistent with DataFrame behavior). To access a value by position, use `ser.iloc[pos]`\n",
            "  human_summary=row[1]\n",
            "<ipython-input-96-95bc22e06ff7>:5: FutureWarning: Series.__getitem__ treating keys as positions is deprecated. In a future version, integer keys will always be treated as labels (consistent with DataFrame behavior). To access a value by position, use `ser.iloc[pos]`\n",
            "  llama_summary=row[2]\n",
            "<ipython-input-96-95bc22e06ff7>:6: FutureWarning: Series.__getitem__ treating keys as positions is deprecated. In a future version, integer keys will always be treated as labels (consistent with DataFrame behavior). To access a value by position, use `ser.iloc[pos]`\n",
            "  peft_sum1=row[3]\n",
            "<ipython-input-96-95bc22e06ff7>:7: FutureWarning: Series.__getitem__ treating keys as positions is deprecated. In a future version, integer keys will always be treated as labels (consistent with DataFrame behavior). To access a value by position, use `ser.iloc[pos]`\n",
            "  peft_sum2=row[4]\n"
          ]
        },
        {
          "output_type": "stream",
          "name": "stdout",
          "text": [
            "2\n",
            "3\n",
            "4\n",
            "5\n",
            "6\n",
            "7\n",
            "8\n",
            "9\n",
            "10\n",
            "11\n",
            "12\n",
            "13\n",
            "14\n",
            "15\n",
            "16\n",
            "17\n",
            "18\n",
            "19\n",
            "20\n",
            "21\n",
            "22\n",
            "23\n",
            "24\n",
            "25\n",
            "26\n",
            "27\n",
            "28\n",
            "29\n",
            "30\n",
            "31\n",
            "32\n",
            "33\n",
            "34\n",
            "35\n",
            "36\n",
            "37\n",
            "38\n",
            "39\n",
            "40\n",
            "41\n",
            "42\n",
            "43\n",
            "44\n",
            "45\n",
            "46\n",
            "47\n",
            "48\n",
            "49\n"
          ]
        }
      ]
    },
    {
      "cell_type": "code",
      "source": [
        "df.to_excel('output_ood2_rb.xlsx', index=False)"
      ],
      "metadata": {
        "id": "ZnGegQsi5gB5"
      },
      "execution_count": null,
      "outputs": []
    },
    {
      "cell_type": "markdown",
      "source": [
        "## GPT-4"
      ],
      "metadata": {
        "id": "rr3w4FbzRDQf"
      }
    },
    {
      "cell_type": "code",
      "source": [
        "# Evaluation prompt template based on G-Eval\n",
        "EVALUATION_PROMPT_TEMPLATE = \"\"\"\n",
        "You will be given one summary written for an article. Your task is to rate the summary on one metric.\n",
        "Please make sure you read and understand these instructions very carefully.\n",
        "Please keep this document open while reviewing, and refer to it as needed.\n",
        "\n",
        "Evaluation Criteria:\n",
        "\n",
        "{criteria}\n",
        "\n",
        "Evaluation Steps:\n",
        "\n",
        "{steps}\n",
        "\n",
        "Example:\n",
        "\n",
        "Source Text:\n",
        "\n",
        "{document}\n",
        "\n",
        "Summary:\n",
        "\n",
        "{summary}\n",
        "\n",
        "{metric_name} Score(Score Number Only!!!):\n",
        "\"\"\"\n",
        "\n",
        "# Metric 1: Relevance\n",
        "\n",
        "RELEVANCY_SCORE_CRITERIA = \"\"\"\n",
        "Relevance(1-5) - selection of important content from the source. \\\n",
        "The summary should include only important information from the source document. \\\n",
        "Annotators were instructed to penalize summaries which contained redundancies and excess information.\n",
        "\"\"\"\n",
        "\n",
        "RELEVANCY_SCORE_STEPS = \"\"\"\n",
        "1. Read the summary and the source document carefully.\n",
        "2. Compare the summary to the source document and identify the main points of the article.\n",
        "3. Assess how well the summary covers the main points of the article, and how much irrelevant or redundant information it contains.\n",
        "4. Assign a relevance score from 1 to 5.\n",
        "\"\"\"\n",
        "\n",
        "# Metric 2: Coherence\n",
        "\n",
        "COHERENCE_SCORE_CRITERIA = \"\"\"\n",
        "Coherence(1-5) - the collective quality of all sentences. \\\n",
        "We align this dimension with the DUC quality question of structure and coherence \\\n",
        "whereby \"the summary should be well-structured and well-organized. \\\n",
        "The summary should not just be a heap of related information, but should build from sentence to a\\\n",
        "coherent body of information about a topic.\"\n",
        "\"\"\"\n",
        "\n",
        "COHERENCE_SCORE_STEPS = \"\"\"\n",
        "1. Read the article carefully and identify the main topic and key points.\n",
        "2. Read the summary and compare it to the article. Check if the summary covers the main topic and key points of the article,\n",
        "and if it presents them in a clear and logical order.\n",
        "3. Assign a score for coherence on a scale of 1 to 5, where 1 is the lowest and 5 is the highest based on the Evaluation Criteria.\n",
        "\"\"\"\n",
        "\n",
        "# Metric 3: Consistency\n",
        "\n",
        "CONSISTENCY_SCORE_CRITERIA = \"\"\"\n",
        "Consistency(1-5) - the factual alignment between the summary and the summarized source. \\\n",
        "A factually consistent summary contains only statements that are entailed by the source document. \\\n",
        "Annotators were also asked to penalize summaries that contained hallucinated facts.\n",
        "\"\"\"\n",
        "\n",
        "CONSISTENCY_SCORE_STEPS = \"\"\"\n",
        "1. Read the article carefully and identify the main facts and details it presents.\n",
        "2. Read the summary and compare it to the article. Check if the summary contains any factual errors that are not supported by the article.\n",
        "3. Assign a score for consistency based on the Evaluation Criteria.\n",
        "\"\"\"\n",
        "\n",
        "# Metric 4: Fluency\n",
        "\n",
        "FLUENCY_SCORE_CRITERIA = \"\"\"\n",
        "Fluency(1-3): the quality of the summary in terms of grammar, spelling, punctuation, word choice, and sentence structure.\n",
        "1: Poor. The summary has many errors that make it hard to understand or sound unnatural.\n",
        "2: Fair. The summary has some errors that affect the clarity or smoothness of the text, but the main points are still comprehensible.\n",
        "3: Good. The summary has few or no errors and is easy to read and follow.\n",
        "\"\"\"\n",
        "\n",
        "FLUENCY_SCORE_STEPS = \"\"\"\n",
        "Read the summary and evaluate its fluency based on the given criteria. Assign a fluency score from 1 to 3.\n",
        "\"\"\"\n",
        "\n",
        "SYSTEM_PROMPT = 'You are an AI assistant named Paragraph Scorer that analyze a given paragraph and provide a score based on metrics.'\n",
        "\n",
        "def get_geval_score(\n",
        "    criteria: str, steps: str, document: str, summary: str, metric_name: str\n",
        "):\n",
        "    prompt = EVALUATION_PROMPT_TEMPLATE.format(\n",
        "        criteria=criteria,\n",
        "        steps=steps,\n",
        "        metric_name=metric_name,\n",
        "        document=document,\n",
        "        summary=summary,\n",
        "    )\n",
        "    # print(\"%\"*20)\n",
        "    # print(prompt)\n",
        "    # print(\"%\"*20)\n",
        "    payload = {\n",
        "      \"messages\": [\n",
        "        {\n",
        "          \"role\": \"system\",\n",
        "          \"content\": [\n",
        "            {\n",
        "              \"type\": \"text\",\n",
        "              \"text\": SYSTEM_PROMPT\n",
        "            }\n",
        "          ]\n",
        "        },\n",
        "        {\n",
        "          \"role\": \"user\",\n",
        "          \"content\": [\n",
        "            {\n",
        "              \"type\": \"text\",\n",
        "              \"text\": prompt\n",
        "            }\n",
        "          ]\n",
        "        }\n",
        "      ],\n",
        "      \"temperature\": 0.1,\n",
        "      \"top_p\": 0.95,\n",
        "      \"max_tokens\": 800\n",
        "    }\n",
        "\n",
        "    try:\n",
        "        response = requests.post(ENDPOINT, headers=headers, json=payload)\n",
        "        response.raise_for_status()\n",
        "    except requests.RequestException as e:\n",
        "        raise SystemExit(f\"Failed to make the request. Error: {e}\")\n",
        "\n",
        "    result = response.json()\n",
        "    # print(result['choices'][0]['message']['content'])\n",
        "    return result['choices'][0]['message']['content']\n",
        "    # response = client.chat.completions.create(\n",
        "    #     model=\"gpt-4o\",\n",
        "    #     messages=[{\"role\": \"user\", \"content\": prompt}],\n",
        "    #     temperature=0,\n",
        "    #     max_tokens=5,\n",
        "    #     top_p=1,\n",
        "    #     frequency_penalty=0,\n",
        "    #     presence_penalty=0,\n",
        "    # )\n",
        "    # return response.choices[0].message.content\n",
        "\n",
        "\n",
        "evaluation_metrics = {\n",
        "    \"Relevance\": (RELEVANCY_SCORE_CRITERIA, RELEVANCY_SCORE_STEPS),\n",
        "    \"Coherence\": (COHERENCE_SCORE_CRITERIA, COHERENCE_SCORE_STEPS),\n",
        "    \"Consistency\": (CONSISTENCY_SCORE_CRITERIA, CONSISTENCY_SCORE_STEPS),\n",
        "    \"Fluency\": (FLUENCY_SCORE_CRITERIA, FLUENCY_SCORE_STEPS),\n",
        "}"
      ],
      "metadata": {
        "collapsed": true,
        "id": "XV3xc2GnRDx7"
      },
      "execution_count": null,
      "outputs": []
    },
    {
      "cell_type": "code",
      "source": [
        "for index,row in df.iterrows():\n",
        "  print(index)\n",
        "  dialogue=row[0]\n",
        "  human_summary=row[1]\n",
        "  llama_summary=row[2]\n",
        "  peft_sum1=row[3]\n",
        "  peft_sum2=row[4]\n",
        "\n",
        "  summary = peft_sum1\n",
        "\n",
        "  for eval_type, (criteria, steps) in evaluation_metrics.items():\n",
        "    # if code crash on some unexpexted response, uncomment this to rerun\n",
        "    # if not pd.isna(df.loc[index, eval_type]):\n",
        "    #   print(\"skip\")\n",
        "    #   continue\n",
        "    result = get_geval_score(criteria, steps, dialogue, summary, eval_type)\n",
        "    # score_num = int(result.strip())\n",
        "    try:\n",
        "      score_num = int(result.strip())\n",
        "    except ValueError:\n",
        "      print(\"something wrong\")\n",
        "      score_num = None\n",
        "    df.loc[index, eval_type] = score_num"
      ],
      "metadata": {
        "colab": {
          "base_uri": "https://localhost:8080/"
        },
        "id": "CVNEI2ytFEh_",
        "outputId": "cfad3660-7d2b-4463-802c-4708bc476e0f"
      },
      "execution_count": null,
      "outputs": [
        {
          "output_type": "stream",
          "name": "stdout",
          "text": [
            "0\n"
          ]
        },
        {
          "output_type": "stream",
          "name": "stderr",
          "text": [
            "<ipython-input-120-2f5c7c5029f0>:3: FutureWarning: Series.__getitem__ treating keys as positions is deprecated. In a future version, integer keys will always be treated as labels (consistent with DataFrame behavior). To access a value by position, use `ser.iloc[pos]`\n",
            "  dialogue=row[0]\n",
            "<ipython-input-120-2f5c7c5029f0>:4: FutureWarning: Series.__getitem__ treating keys as positions is deprecated. In a future version, integer keys will always be treated as labels (consistent with DataFrame behavior). To access a value by position, use `ser.iloc[pos]`\n",
            "  human_summary=row[1]\n",
            "<ipython-input-120-2f5c7c5029f0>:5: FutureWarning: Series.__getitem__ treating keys as positions is deprecated. In a future version, integer keys will always be treated as labels (consistent with DataFrame behavior). To access a value by position, use `ser.iloc[pos]`\n",
            "  llama_summary=row[2]\n",
            "<ipython-input-120-2f5c7c5029f0>:6: FutureWarning: Series.__getitem__ treating keys as positions is deprecated. In a future version, integer keys will always be treated as labels (consistent with DataFrame behavior). To access a value by position, use `ser.iloc[pos]`\n",
            "  peft_sum1=row[3]\n",
            "<ipython-input-120-2f5c7c5029f0>:7: FutureWarning: Series.__getitem__ treating keys as positions is deprecated. In a future version, integer keys will always be treated as labels (consistent with DataFrame behavior). To access a value by position, use `ser.iloc[pos]`\n",
            "  peft_sum2=row[4]\n"
          ]
        },
        {
          "output_type": "stream",
          "name": "stdout",
          "text": [
            "1\n"
          ]
        },
        {
          "output_type": "stream",
          "name": "stderr",
          "text": [
            "<ipython-input-120-2f5c7c5029f0>:3: FutureWarning: Series.__getitem__ treating keys as positions is deprecated. In a future version, integer keys will always be treated as labels (consistent with DataFrame behavior). To access a value by position, use `ser.iloc[pos]`\n",
            "  dialogue=row[0]\n",
            "<ipython-input-120-2f5c7c5029f0>:4: FutureWarning: Series.__getitem__ treating keys as positions is deprecated. In a future version, integer keys will always be treated as labels (consistent with DataFrame behavior). To access a value by position, use `ser.iloc[pos]`\n",
            "  human_summary=row[1]\n",
            "<ipython-input-120-2f5c7c5029f0>:5: FutureWarning: Series.__getitem__ treating keys as positions is deprecated. In a future version, integer keys will always be treated as labels (consistent with DataFrame behavior). To access a value by position, use `ser.iloc[pos]`\n",
            "  llama_summary=row[2]\n",
            "<ipython-input-120-2f5c7c5029f0>:6: FutureWarning: Series.__getitem__ treating keys as positions is deprecated. In a future version, integer keys will always be treated as labels (consistent with DataFrame behavior). To access a value by position, use `ser.iloc[pos]`\n",
            "  peft_sum1=row[3]\n",
            "<ipython-input-120-2f5c7c5029f0>:7: FutureWarning: Series.__getitem__ treating keys as positions is deprecated. In a future version, integer keys will always be treated as labels (consistent with DataFrame behavior). To access a value by position, use `ser.iloc[pos]`\n",
            "  peft_sum2=row[4]\n"
          ]
        },
        {
          "output_type": "stream",
          "name": "stdout",
          "text": [
            "2\n",
            "3\n",
            "4\n",
            "5\n",
            "6\n",
            "7\n",
            "8\n",
            "9\n",
            "10\n",
            "11\n",
            "12\n",
            "13\n",
            "14\n",
            "15\n",
            "16\n",
            "17\n",
            "18\n",
            "19\n",
            "20\n",
            "21\n",
            "22\n",
            "23\n",
            "24\n",
            "25\n",
            "26\n",
            "27\n",
            "28\n",
            "29\n",
            "30\n",
            "31\n",
            "32\n",
            "33\n",
            "34\n",
            "35\n",
            "36\n",
            "37\n",
            "38\n",
            "39\n",
            "40\n",
            "41\n",
            "42\n",
            "43\n",
            "44\n",
            "45\n",
            "46\n",
            "47\n",
            "48\n",
            "49\n"
          ]
        }
      ]
    },
    {
      "cell_type": "code",
      "source": [
        "df.to_excel('output_ood2_1_sum_gptscore.xlsx', index=False)"
      ],
      "metadata": {
        "id": "UeB5GgQBRXqZ"
      },
      "execution_count": null,
      "outputs": []
    },
    {
      "cell_type": "code",
      "source": [],
      "metadata": {
        "id": "lrZhg0FyXZOf"
      },
      "execution_count": null,
      "outputs": []
    }
  ]
}